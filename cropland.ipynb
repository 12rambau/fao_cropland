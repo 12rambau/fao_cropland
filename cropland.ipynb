{
 "cells": [
  {
   "cell_type": "code",
   "execution_count": 1,
   "metadata": {},
   "outputs": [],
   "source": [
    "import os \n",
    "del os.environ['GDAL_DATA']"
   ]
  },
  {
   "cell_type": "code",
   "execution_count": 2,
   "metadata": {},
   "outputs": [
    {
     "name": "stderr",
     "output_type": "stream",
     "text": [
      "/usr/local/lib/python3.6/dist-packages/cligj/__init__.py:17: FutureWarning: cligj 1.0.0 will require Python >= 3.7\n",
      "  warn(\"cligj 1.0.0 will require Python >= 3.7\", FutureWarning)\n"
     ]
    },
    {
     "data": {
      "application/vnd.jupyter.widget-view+json": {
       "model_id": "ce67dce07b394bb5b229ee54c6bd7cd9",
       "version_major": 2,
       "version_minor": 0
      },
      "text/plain": [
       "HTML(value='\\n<style>\\n.leaflet-pane {\\n    z-index : 2 !important;\\n}\\n.leaflet-top, .leaflet-bottom {\\n    z…"
      ]
     },
     "metadata": {},
     "output_type": "display_data"
    }
   ],
   "source": [
    "import itertools\n",
    "\n",
    "import rasterio\n",
    "from rasterio.mask import mask\n",
    "from rasterio.warp import reproject, calculate_default_transform as cdt, Resampling\n",
    "from rasterstats import zonal_stats\n",
    "from geocube.api.core import make_geocube\n",
    "from shapely.geometry import shape, box\n",
    "from matplotlib.colors import ListedColormap\n",
    "from matplotlib import cm\n",
    "import ee\n",
    "import geemap\n",
    "import numpy as np\n",
    "import pandas as pd\n",
    "import geopandas as gpd\n",
    "\n",
    "from sepal_ui import mapping as sm\n",
    "\n",
    "from scripts import parameter as pm\n",
    "from scripts.utils import update_progress"
   ]
  },
  {
   "cell_type": "code",
   "execution_count": null,
   "metadata": {},
   "outputs": [],
   "source": [
    "ee.Initialize()\n",
    "\n",
    "Map = sm.SepalMap(['CartoDB.Positron'])"
   ]
  },
  {
   "cell_type": "code",
   "execution_count": null,
   "metadata": {},
   "outputs": [
    {
     "data": {
      "application/vnd.jupyter.widget-view+json": {
       "model_id": "b9bd10d2880442e180b319ddd0d89241",
       "version_major": 2,
       "version_minor": 0
      },
      "text/plain": [
       "SepalMap(center=[0, 0], controls=(ZoomControl(options=['position', 'zoom_in_text', 'zoom_in_title', 'zoom_out_…"
      ]
     },
     "metadata": {},
     "output_type": "display_data"
    }
   ],
   "source": [
    "Map"
   ]
  },
  {
   "cell_type": "markdown",
   "metadata": {},
   "source": [
    "## LMICs\n",
    "\n",
    "### get the countries borders as ee.FeatureCollection\n",
    "\n",
    "Get the LMICs countries from the GAUL list and display them on the interactive map"
   ]
  },
  {
   "cell_type": "code",
   "execution_count": null,
   "metadata": {},
   "outputs": [
    {
     "data": {
      "text/html": [
       "<div>\n",
       "<style scoped>\n",
       "    .dataframe tbody tr th:only-of-type {\n",
       "        vertical-align: middle;\n",
       "    }\n",
       "\n",
       "    .dataframe tbody tr th {\n",
       "        vertical-align: top;\n",
       "    }\n",
       "\n",
       "    .dataframe thead th {\n",
       "        text-align: right;\n",
       "    }\n",
       "</style>\n",
       "<table border=\"1\" class=\"dataframe\">\n",
       "  <thead>\n",
       "    <tr style=\"text-align: right;\">\n",
       "      <th></th>\n",
       "      <th>Country</th>\n",
       "      <th>Official name</th>\n",
       "      <th>ISO3</th>\n",
       "      <th>ISO2</th>\n",
       "      <th>UNI</th>\n",
       "      <th>UNDP</th>\n",
       "      <th>FAOSTAT</th>\n",
       "      <th>GAUL</th>\n",
       "    </tr>\n",
       "  </thead>\n",
       "  <tbody>\n",
       "    <tr>\n",
       "      <th>0</th>\n",
       "      <td>Afghanistan</td>\n",
       "      <td>the Islamic Republic of Afghanistan</td>\n",
       "      <td>AFG</td>\n",
       "      <td>AF</td>\n",
       "      <td>4.0</td>\n",
       "      <td>AFG</td>\n",
       "      <td>2.0</td>\n",
       "      <td>1</td>\n",
       "    </tr>\n",
       "    <tr>\n",
       "      <th>1</th>\n",
       "      <td>Algeria</td>\n",
       "      <td>the People's Democratic Republic of Algeria</td>\n",
       "      <td>DZA</td>\n",
       "      <td>DZ</td>\n",
       "      <td>12.0</td>\n",
       "      <td>DZA</td>\n",
       "      <td>4.0</td>\n",
       "      <td>4</td>\n",
       "    </tr>\n",
       "    <tr>\n",
       "      <th>2</th>\n",
       "      <td>Angola</td>\n",
       "      <td>the Republic of Angola</td>\n",
       "      <td>AGO</td>\n",
       "      <td>AO</td>\n",
       "      <td>24.0</td>\n",
       "      <td>AGO</td>\n",
       "      <td>7.0</td>\n",
       "      <td>8</td>\n",
       "    </tr>\n",
       "    <tr>\n",
       "      <th>3</th>\n",
       "      <td>Antigua and Barbuda</td>\n",
       "      <td>Antigua and Barbuda</td>\n",
       "      <td>ATG</td>\n",
       "      <td>AG</td>\n",
       "      <td>28.0</td>\n",
       "      <td>ATG</td>\n",
       "      <td>8.0</td>\n",
       "      <td>11</td>\n",
       "    </tr>\n",
       "    <tr>\n",
       "      <th>4</th>\n",
       "      <td>Argentina</td>\n",
       "      <td>the Argentine Republic</td>\n",
       "      <td>ARG</td>\n",
       "      <td>AR</td>\n",
       "      <td>32.0</td>\n",
       "      <td>ARG</td>\n",
       "      <td>9.0</td>\n",
       "      <td>12</td>\n",
       "    </tr>\n",
       "  </tbody>\n",
       "</table>\n",
       "</div>"
      ],
      "text/plain": [
       "               Country                                Official name ISO3 ISO2  \\\n",
       "0          Afghanistan          the Islamic Republic of Afghanistan  AFG   AF   \n",
       "1              Algeria  the People's Democratic Republic of Algeria  DZA   DZ   \n",
       "2               Angola                       the Republic of Angola  AGO   AO   \n",
       "3  Antigua and Barbuda                          Antigua and Barbuda  ATG   AG   \n",
       "4            Argentina                       the Argentine Republic  ARG   AR   \n",
       "\n",
       "    UNI UNDP  FAOSTAT  GAUL  \n",
       "0   4.0  AFG      2.0     1  \n",
       "1  12.0  DZA      4.0     4  \n",
       "2  24.0  AGO      7.0     8  \n",
       "3  28.0  ATG      8.0    11  \n",
       "4  32.0  ARG      9.0    12  "
      ]
     },
     "execution_count": 5,
     "metadata": {},
     "output_type": "execute_result"
    }
   ],
   "source": [
    "countries = pm.country_list\n",
    "countries.head()"
   ]
  },
  {
   "cell_type": "code",
   "execution_count": null,
   "metadata": {},
   "outputs": [],
   "source": [
    "gaul_numbers = countries['GAUL'].tolist()\n",
    "ee_countries = ee.FeatureCollection(\"FAO/GAUL/2015/level0\").filter(ee.Filter.inList('ADM0_CODE', gaul_numbers))\n",
    "Map.addLayer(ee_countries, {}, 'LMIC')"
   ]
  },
  {
   "cell_type": "markdown",
   "metadata": {},
   "source": [
    "### transform to shapely\n",
    "\n",
    "The ee collection need to be transformed into a list of shapely shape to be used as a croping border\n",
    "need to use a list of polygon because a single polygon exceed the maximum number of vertice"
   ]
  },
  {
   "cell_type": "code",
   "execution_count": null,
   "metadata": {},
   "outputs": [
    {
     "name": "stdout",
     "output_type": "stream",
     "text": [
      "Countries loaded: [####################] 100.0%\n"
     ]
    }
   ],
   "source": [
    "shapes = []\n",
    "for index, row in countries.iterrows():\n",
    "    update_progress(index / (len(countries)-1), 'Countries loaded')\n",
    "    country = ee.FeatureCollection(\"FAO/GAUL/2015/level0\").filter(ee.Filter.eq('ADM0_CODE', row.GAUL))\n",
    "    country_json = geemap.ee_to_geojson(country)\n",
    "    shapes.append(shape(country_json['features'][0]['geometry']))"
   ]
  },
  {
   "cell_type": "markdown",
   "metadata": {},
   "source": [
    "## Croplan map \n",
    "\n",
    "Using the map provided by YuanYuan, we will crop the raster on the LMICs map\n",
    "\n",
    "### cut the map of cropland on the countries"
   ]
  },
  {
   "cell_type": "code",
   "execution_count": null,
   "metadata": {},
   "outputs": [],
   "source": [
    "with rasterio.open(pm.cropland_raster) as src:\n",
    "    out_image, out_transform = mask(src, shapes, all_touched=True)\n",
    "    \n",
    "    out_meta = src.meta.copy()\n",
    "    out_meta.update(\n",
    "        driver = 'GTiff',\n",
    "        height = out_image.shape[1],\n",
    "        width = out_image.shape[2],\n",
    "        transform = out_transform,\n",
    "        compress='lzw'\n",
    "    )\n",
    "    with rasterio.open(pm.crop_masked, \"w\", **out_meta) as dest:\n",
    "        dest.write(out_image)"
   ]
  },
  {
   "cell_type": "code",
   "execution_count": null,
   "metadata": {},
   "outputs": [
    {
     "data": {
      "application/vnd.jupyter.widget-view+json": {
       "model_id": "b9bd10d2880442e180b319ddd0d89241",
       "version_major": 2,
       "version_minor": 0
      },
      "text/plain": [
       "SepalMap(center=[0, 0], controls=(ZoomControl(options=['position', 'zoom_in_text', 'zoom_in_title', 'zoom_out_…"
      ]
     },
     "metadata": {},
     "output_type": "display_data"
    }
   ],
   "source": [
    "Map.add_raster(pm.crop_masked, layer_name='crop', colormap=cm.get_cmap('YlGn'))"
   ]
  },
  {
   "cell_type": "markdown",
   "metadata": {},
   "source": [
    "## deal with the 2013 LLC zones\n",
    "from the 2013 map of LLC\n",
    "Determine the fraction of the cell’s area in the land cover classes in ESA’s CCI-LC maps (10, 20, 30)\n",
    "each zone will be treated separately to avoid bugs"
   ]
  },
  {
   "cell_type": "markdown",
   "metadata": {},
   "source": [
    "### functions "
   ]
  },
  {
   "cell_type": "code",
   "execution_count": null,
   "metadata": {},
   "outputs": [],
   "source": [
    "#transform the raster into a gpd cell grid \n",
    "def get_grid(src_rst, max_polygon=0):\n",
    "\n",
    "    with rasterio.open(src_rst) as src:\n",
    "        data = src.read(1)\n",
    "\n",
    "        t = src.transform\n",
    "\n",
    "        move_x = t[0]\n",
    "        # t[4] is negative, as raster start upper left 0,0 and goes down\n",
    "        # later for steps calculation (ymin=...) we use plus instead of minus\n",
    "        move_y = t[4]\n",
    "\n",
    "        height = src.height\n",
    "        width = src.width \n",
    "\n",
    "        polygons = []\n",
    "        indices = list(itertools.product(range(height), range(width)))\n",
    "        index = 0\n",
    "        data_flat = data.flatten()\n",
    "        for y,x in indices:\n",
    "            if data_flat[index] != np.iinfo(np.int16).min:\n",
    "                x_min, y_max = t * (x,y)\n",
    "                x_max = x_min + move_x\n",
    "                y_min = y_max + move_y\n",
    "                polygons.append(box(x_min, y_min, x_max, y_max))\n",
    "            \n",
    "            index += 1\n",
    "            \n",
    "            if (max_polygon != 0) & (len(polygons) > max_polygon):\n",
    "                break\n",
    "\n",
    "    return gpd.GeoDataFrame(crs='EPSG:4236', geometry=polygons)"
   ]
  },
  {
   "cell_type": "code",
   "execution_count": null,
   "metadata": {},
   "outputs": [],
   "source": [
    "def gdf_zonal_stats(init_gdf, rst):\n",
    "    \n",
    "    gdf = init_gdf.copy()\n",
    "    gdf = gdf.join(\n",
    "        pd.DataFrame(\n",
    "            zonal_stats(\n",
    "                vectors=gdf['geometry'], \n",
    "                raster=rst, \n",
    "                all_touched=True, \n",
    "                categorical=True\n",
    "            )\n",
    "        ),\n",
    "        how='left'\n",
    "    )\n",
    "    \n",
    "    return gdf"
   ]
  },
  {
   "cell_type": "code",
   "execution_count": null,
   "metadata": {},
   "outputs": [],
   "source": [
    "def fraction_raster(init_gdf, value, template_rst, out_rst):\n",
    "    \n",
    "    gdf = init_gdf.copy()\n",
    "    gdf[f'{value}%'] = gdf[value]/gdf.sum(axis=1)*100\n",
    "    \n",
    "    with rasterio.open(template_rst) as src:\n",
    "        gt = src.transform\n",
    "        resX = gt[0]\n",
    "        resY = -gt[4]\n",
    "        \n",
    "    cube = make_geocube(\n",
    "        gdf,\n",
    "        measurements=[f'{value}%'],\n",
    "        resolution=(resX, resY),\n",
    "    )\n",
    "    \n",
    "    cube[f'{value}%'].rio.to_raster(out_rst)"
   ]
  },
  {
   "cell_type": "code",
   "execution_count": null,
   "metadata": {},
   "outputs": [],
   "source": [
    "def align_raster(src_rst, template_rst, out_rst):\n",
    "    \n",
    "    # get template crs and transform \n",
    "    with rasterio.open(template_rst) as tplt, rasterio.open(src_rst) as src:      \n",
    "        \n",
    "        kwargs = src.meta.copy()\n",
    "        kwargs.update(\n",
    "            driver = 'GTiff',\n",
    "            height = tplt.height,\n",
    "            width = tplt.width,\n",
    "            transform = tplt.transform,\n",
    "            compress='lzw'\n",
    "        )\n",
    "        \n",
    "        #destination\n",
    "        with rasterio.open(out_rst, 'w', **kwargs) as dst:\n",
    "            for i in range(1, dst.count+1):\n",
    "                reproject(\n",
    "                    source=rasterio.band(src, i),\n",
    "                    destination=rasterio.band(dst, i),\n",
    "                    src_transform=src.transform,\n",
    "                    src_crs=src.crs,\n",
    "                    dst_transform=tplt.transform,\n",
    "                    dst_crs=tplt.crs,\n",
    "                    resampling=Resampling.bilinear\n",
    "                ) "
   ]
  },
  {
   "cell_type": "markdown",
   "metadata": {},
   "source": [
    "### get the grid \n",
    "\n",
    "This grid will be used as a base for each ecozone value \n",
    "sheck the gdf_zonal header to verify that your ecozone is in the polygons regions (not always the case when using max_polygon)"
   ]
  },
  {
   "cell_type": "code",
   "execution_count": null,
   "metadata": {},
   "outputs": [],
   "source": [
    "# value of max polygone\n",
    "# put to 0 to study the full map\n",
    "# the 200 first values are placed in the north of kazakstan\n",
    "max_polygon = 10000"
   ]
  },
  {
   "cell_type": "code",
   "execution_count": null,
   "metadata": {},
   "outputs": [
    {
     "name": "stdout",
     "output_type": "stream",
     "text": [
      "10001 cells in gdf_grid\n",
      "CPU times: user 963 ms, sys: 209 ms, total: 1.17 s\n",
      "Wall time: 1.18 s\n"
     ]
    }
   ],
   "source": [
    "%%time \n",
    "gdf_grid = get_grid(pm.crop_masked, max_polygon=max_polygon)\n",
    "print(f'{len(gdf_grid)} cells in gdf_grid')"
   ]
  },
  {
   "cell_type": "markdown",
   "metadata": {},
   "source": [
    "### Create the 2013 map out of the full map"
   ]
  },
  {
   "cell_type": "code",
   "execution_count": null,
   "metadata": {},
   "outputs": [],
   "source": [
    "#with rasterio.open(pm.llc_full) as src:\n",
    "#    \n",
    "#    kwargs = src.meta.copy()\n",
    "#    kwargs.update(\n",
    "#        driver = 'GTiff',\n",
    "#        height = src.height,\n",
    "#        width = src.width,\n",
    "#        transform = src.transform,\n",
    "#        compress='lzw',\n",
    "#        count = 1\n",
    "#    )\n",
    "#    \n",
    "#    #24 band in total from 1992 to 2015 so 2013 is 22 ( /!\\ indexed from 1)\n",
    "#    data = src.read(22)\n",
    "#    #print(data.shape)\n",
    "#    with rasterio.open(pm.llc_2013_raster, 'w', **kwargs) as dst:\n",
    "#            dst.write(data, indexes=1)"
   ]
  },
  {
   "cell_type": "markdown",
   "metadata": {},
   "source": [
    "### create the ecozones map"
   ]
  },
  {
   "cell_type": "code",
   "execution_count": null,
   "metadata": {},
   "outputs": [
    {
     "name": "stdout",
     "output_type": "stream",
     "text": [
      "CPU times: user 1min 46s, sys: 2.07 s, total: 1min 48s\n",
      "Wall time: 2min 7s\n"
     ]
    },
    {
     "data": {
      "text/html": [
       "<div>\n",
       "<style scoped>\n",
       "    .dataframe tbody tr th:only-of-type {\n",
       "        vertical-align: middle;\n",
       "    }\n",
       "\n",
       "    .dataframe tbody tr th {\n",
       "        vertical-align: top;\n",
       "    }\n",
       "\n",
       "    .dataframe thead th {\n",
       "        text-align: right;\n",
       "    }\n",
       "</style>\n",
       "<table border=\"1\" class=\"dataframe\">\n",
       "  <thead>\n",
       "    <tr style=\"text-align: right;\">\n",
       "      <th></th>\n",
       "      <th>geometry</th>\n",
       "      <th>210</th>\n",
       "    </tr>\n",
       "  </thead>\n",
       "  <tbody>\n",
       "    <tr>\n",
       "      <th>0</th>\n",
       "      <td>POLYGON ((-179.91667 89.91667, -179.91667 90.0...</td>\n",
       "      <td>900</td>\n",
       "    </tr>\n",
       "    <tr>\n",
       "      <th>1</th>\n",
       "      <td>POLYGON ((-179.83333 89.91667, -179.83333 90.0...</td>\n",
       "      <td>930</td>\n",
       "    </tr>\n",
       "    <tr>\n",
       "      <th>2</th>\n",
       "      <td>POLYGON ((-179.75000 89.91667, -179.75000 90.0...</td>\n",
       "      <td>930</td>\n",
       "    </tr>\n",
       "    <tr>\n",
       "      <th>3</th>\n",
       "      <td>POLYGON ((-179.66667 89.91667, -179.66667 90.0...</td>\n",
       "      <td>930</td>\n",
       "    </tr>\n",
       "    <tr>\n",
       "      <th>4</th>\n",
       "      <td>POLYGON ((-179.58333 89.91667, -179.58333 90.0...</td>\n",
       "      <td>930</td>\n",
       "    </tr>\n",
       "  </tbody>\n",
       "</table>\n",
       "</div>"
      ],
      "text/plain": [
       "                                            geometry  210\n",
       "0  POLYGON ((-179.91667 89.91667, -179.91667 90.0...  900\n",
       "1  POLYGON ((-179.83333 89.91667, -179.83333 90.0...  930\n",
       "2  POLYGON ((-179.75000 89.91667, -179.75000 90.0...  930\n",
       "3  POLYGON ((-179.66667 89.91667, -179.66667 90.0...  930\n",
       "4  POLYGON ((-179.58333 89.91667, -179.58333 90.0...  930"
      ]
     },
     "execution_count": 17,
     "metadata": {},
     "output_type": "execute_result"
    }
   ],
   "source": [
    "%%time\n",
    "gdf_zonal = gdf_zonal_stats(gdf_grid, pm.llc_2013_raster)\n",
    "gdf_zonal.head()"
   ]
  },
  {
   "cell_type": "code",
   "execution_count": null,
   "metadata": {},
   "outputs": [
    {
     "name": "stdout",
     "output_type": "stream",
     "text": [
      "ecozones loaded: [####################] 100.0%\n"
     ]
    }
   ],
   "source": [
    "ecozones = [pm.ecozones[i] for i in pm.ecozones]\n",
    "\n",
    "for index, zone in enumerate(ecozones):\n",
    "    \n",
    "    update_progress(index / (len(ecozones)-1), 'ecozones loaded')\n",
    "    \n",
    "    if zone in gdf_zonal.columns:\n",
    "        fraction_raster(gdf_zonal, zone, pm.crop_masked, pm.llc_2013_map.format(zone))\n",
    "        align_raster(pm.llc_2013_map.format(zone), pm.crop_masked, pm.llc_2013_map_masked.format(zone))\n",
    "        Map.add_raster(pm.llc_2013_map_masked.format(zone), layer_name=pm.ecozones[zone])"
   ]
  },
  {
   "cell_type": "code",
   "execution_count": null,
   "metadata": {},
   "outputs": [],
   "source": []
  }
 ],
 "metadata": {
  "kernelspec": {
   "display_name": "Python 3",
   "language": "python",
   "name": "python3"
  },
  "language_info": {
   "codemirror_mode": {
    "name": "ipython",
    "version": 3
   },
   "file_extension": ".py",
   "mimetype": "text/x-python",
   "name": "python",
   "nbconvert_exporter": "python",
   "pygments_lexer": "ipython3",
   "version": "3.6.9"
  }
 },
 "nbformat": 4,
 "nbformat_minor": 4
}
